{
 "cells": [
  {
   "cell_type": "markdown",
   "metadata": {},
   "source": [
    "![Inspire logo](images/inspire_logo.png \"Inspire logo\")"
   ]
  },
  {
   "cell_type": "markdown",
   "metadata": {},
   "source": [
    "# Inspire | Summer 2021\n",
    "\n",
    "## Introduction to Colab\n",
    "\n",
    "Colab, from Google, is a website where you can write and run Python code. We will use it later to run a machine learning model.\n",
    "\n",
    "This page is called a Colab notebook. Hit the menu button on the left sidebar to show the notebook's table of contents.\n",
    "\n",
    "A notebook has different sections, called cells. If you click around this notebook you will see different cells being highlighted with a border."
   ]
  },
  {
   "cell_type": "markdown",
   "metadata": {},
   "source": [
    "This is a markdown cell, where text can be displayed."
   ]
  },
  {
   "cell_type": "markdown",
   "metadata": {},
   "source": [
    "# Running code cells"
   ]
  },
  {
   "cell_type": "code",
   "execution_count": 1,
   "metadata": {},
   "outputs": [
    {
     "data": {
      "text/plain": [
       "375"
      ]
     },
     "execution_count": 1,
     "metadata": {},
     "output_type": "execute_result"
    }
   ],
   "source": [
    "# This is a code cell, where we can run Python code.\n",
    "# This hash symbol means that this line is a comment, not code.\n",
    "\n",
    "# Below is a line of simple Python code. \n",
    "# The code in this cell runs and the result is printed below the cell.\n",
    "365 + 10"
   ]
  },
  {
   "cell_type": "markdown",
   "metadata": {},
   "source": [
    "Try it yourself. To run the code in the above cell, select it with a click and then either press the play button to the left of the code, or use the keyboard shortcut 'Shift+Enter'. \n",
    "\n",
    "Next, try changing the numbers in the cell above. Just click the cell and type and then run the code."
   ]
  },
  {
   "cell_type": "markdown",
   "metadata": {},
   "source": [
    "# Variables\n",
    "\n",
    "The code cell below contains a short Python script that computes a value, stores it in a variable and prints the result:"
   ]
  },
  {
   "cell_type": "code",
   "execution_count": 2,
   "metadata": {},
   "outputs": [
    {
     "data": {
      "text/plain": [
       "3600"
      ]
     },
     "execution_count": 2,
     "metadata": {},
     "output_type": "execute_result"
    }
   ],
   "source": [
    "seconds_in_an_hour = 60 * 60\n",
    "seconds_in_an_hour"
   ]
  },
  {
   "cell_type": "markdown",
   "metadata": {},
   "source": [
    "Variables that you define in one cell can later be used in other cells. The cell below uses the ```seconds_in_an_hour``` variable that was set in the cell above:"
   ]
  },
  {
   "cell_type": "code",
   "execution_count": 3,
   "metadata": {},
   "outputs": [
    {
     "data": {
      "text/plain": [
       "86400"
      ]
     },
     "execution_count": 3,
     "metadata": {},
     "output_type": "execute_result"
    }
   ],
   "source": [
    "seconds_in_a_day = 24 * seconds_in_an_hour\n",
    "seconds_in_a_day"
   ]
  },
  {
   "cell_type": "markdown",
   "metadata": {},
   "source": [
    "## Activity\n",
    "Try it yourself: can you calculate the number of seconds in a week? \n",
    "\n",
    "Change the code in the cell below. Throughout this workshop, we use the text **# INSPIRE:** to indicate where you need to edit code:"
   ]
  },
  {
   "cell_type": "code",
   "execution_count": 4,
   "metadata": {},
   "outputs": [
    {
     "data": {
      "text/plain": [
       "0"
      ]
     },
     "execution_count": 4,
     "metadata": {},
     "output_type": "execute_result"
    }
   ],
   "source": [
    "seconds_in_a_week = 0  # INSPIRE: type the calculation here\n",
    "seconds_in_a_week"
   ]
  },
  {
   "cell_type": "markdown",
   "metadata": {},
   "source": [
    "# Print\n",
    "Code cells can print more infomation by using the Python function ```print```."
   ]
  },
  {
   "cell_type": "code",
   "execution_count": 5,
   "metadata": {},
   "outputs": [
    {
     "name": "stdout",
     "output_type": "stream",
     "text": [
      "Seconds in an hour: 3600\n",
      "Seconds in a day: 86400\n",
      "Seconds in a week: 0\n"
     ]
    }
   ],
   "source": [
    "print(\"Seconds in an hour:\", seconds_in_an_hour)\n",
    "print(\"Seconds in a day:\", seconds_in_a_day)\n",
    "print(\"Seconds in a week:\", seconds_in_a_week)"
   ]
  },
  {
   "cell_type": "markdown",
   "metadata": {},
   "source": [
    "# Functions\n",
    "A function is a block of code that runs when it is called in another line of code. You won't be writing functions in this workshop but you will see lots of them in the code that you will be editing.\n",
    "\n",
    "Python functions start with the statement ```def``` and the function code is indented below it. The Python statement ```return``` returns the result back to the line of code that called the function. "
   ]
  },
  {
   "cell_type": "code",
   "execution_count": 6,
   "metadata": {},
   "outputs": [],
   "source": [
    "def calculate_minutes(number_of_days):\n",
    "    '''Return the number of minutes in the number of days. '''\n",
    "    minutes_in_a_day = 24 * 60\n",
    "    total_minutes = number_of_days * minutes_in_a_day\n",
    "    return total_minutes"
   ]
  },
  {
   "cell_type": "markdown",
   "metadata": {},
   "source": [
    "The cell below calls the function ```calculate_minutes```:"
   ]
  },
  {
   "cell_type": "code",
   "execution_count": 7,
   "metadata": {},
   "outputs": [
    {
     "data": {
      "text/plain": [
       "10080"
      ]
     },
     "execution_count": 7,
     "metadata": {},
     "output_type": "execute_result"
    }
   ],
   "source": [
    "number_of_minutes = calculate_minutes(number_of_days=7)\n",
    "number_of_minutes"
   ]
  },
  {
   "cell_type": "markdown",
   "metadata": {},
   "source": [
    "The cell below shows different ways that the function ```calculate_minutes``` can be called:"
   ]
  },
  {
   "cell_type": "code",
   "execution_count": 8,
   "metadata": {},
   "outputs": [
    {
     "name": "stdout",
     "output_type": "stream",
     "text": [
      "calculate_minutes(7): \t\t\t 10080\n",
      "calculate_minutes(days_in_a_week): \t 10080\n"
     ]
    }
   ],
   "source": [
    "number_of_minutes = calculate_minutes(7) # It can be called without writing number_of_days=\n",
    "print(\"calculate_minutes(7):\", \"\\t\\t\\t\", number_of_minutes)\n",
    "\n",
    "days_in_a_week = 7\n",
    "number_of_minutes = calculate_minutes(days_in_a_week)  # A variable can be input to a function\n",
    "print(\"calculate_minutes(days_in_a_week):\", \"\\t\", number_of_minutes)"
   ]
  },
  {
   "cell_type": "markdown",
   "metadata": {},
   "source": [
    "# Running the entire notebook\n",
    "You can run the code in all of the cells, from the top of the notebook to the bottom, by selecting **Runtime** then **Run all**.\n",
    "\n",
    "## Activity\n",
    "Try it now: change the value of ```seconds_in_an_hour```. E.g. change it to ```seconds_in_an_hour = 1000```. Run all and see the results of some of the cells change. \n",
    "\n",
    "Can you see that the output of the cell starting with ```print(\"Seconds in an hour:\", seconds_in_an_hour)``` has changed?\n",
    "\n",
    "When you are done, change the code back to ```seconds_in_an_hour = 60 * 60``` and run all again."
   ]
  },
  {
   "cell_type": "markdown",
   "metadata": {},
   "source": [
    "![Pocket watch](images/pocket-watch-1637396_1920.jpg \"Pocket watch on sand\")\n",
    "<!---\n",
    "Pixabay license. Free for commercial use. No attribution required.\n",
    "-->"
   ]
  },
  {
   "cell_type": "markdown",
   "metadata": {},
   "source": [
    "### Credits\n",
    "\n",
    "Some elements of this notebook have been adapted from https://colab.research.google.com/notebooks/intro.ipynb\n",
    "\n",
    "Images: Pixabay license. Free for commercial use. No attribution required. \n",
    "https://pixabay.com"
   ]
  }
 ],
 "metadata": {
  "kernelspec": {
   "display_name": "Python 3",
   "language": "python",
   "name": "python3"
  },
  "language_info": {
   "codemirror_mode": {
    "name": "ipython",
    "version": 3
   },
   "file_extension": ".py",
   "mimetype": "text/x-python",
   "name": "python",
   "nbconvert_exporter": "python",
   "pygments_lexer": "ipython3",
   "version": "3.8.8"
  }
 },
 "nbformat": 4,
 "nbformat_minor": 2
}
